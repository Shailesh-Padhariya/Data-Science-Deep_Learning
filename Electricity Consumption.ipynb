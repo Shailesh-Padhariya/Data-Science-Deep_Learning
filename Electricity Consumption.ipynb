{
 "cells": [
  {
   "cell_type": "code",
   "execution_count": 1,
   "id": "eeef744b-eacc-44ec-8209-a36664a7d00d",
   "metadata": {},
   "outputs": [],
   "source": [
    "import pandas as pd\n",
    "import numpy as np \n",
    "import matplotlib.pyplot as plt\n",
    "from matplotlib.pylab import rcParams\n",
    "rcParams['figure.figsize'] = 20,10\n",
    "import warnings\n",
    "warnings.filterwarnings('ignore')\n"
   ]
  },
  {
   "cell_type": "code",
   "execution_count": 2,
   "id": "b787190d-6f7a-43ba-babe-258749b9c51e",
   "metadata": {},
   "outputs": [
    {
     "data": {
      "text/html": [
       "<div>\n",
       "<style scoped>\n",
       "    .dataframe tbody tr th:only-of-type {\n",
       "        vertical-align: middle;\n",
       "    }\n",
       "\n",
       "    .dataframe tbody tr th {\n",
       "        vertical-align: top;\n",
       "    }\n",
       "\n",
       "    .dataframe thead th {\n",
       "        text-align: right;\n",
       "    }\n",
       "</style>\n",
       "<table border=\"1\" class=\"dataframe\">\n",
       "  <thead>\n",
       "    <tr style=\"text-align: right;\">\n",
       "      <th></th>\n",
       "      <th>DATE</th>\n",
       "      <th>Humidity</th>\n",
       "      <th>Temperature</th>\n",
       "      <th>Electricity</th>\n",
       "    </tr>\n",
       "  </thead>\n",
       "  <tbody>\n",
       "    <tr>\n",
       "      <th>0</th>\n",
       "      <td>2020-01-01 00:00:00 EST</td>\n",
       "      <td>92</td>\n",
       "      <td>-1.1</td>\n",
       "      <td>914</td>\n",
       "    </tr>\n",
       "    <tr>\n",
       "      <th>1</th>\n",
       "      <td>2020-01-01 01:00:00 EST</td>\n",
       "      <td>92</td>\n",
       "      <td>-1.5</td>\n",
       "      <td>887</td>\n",
       "    </tr>\n",
       "    <tr>\n",
       "      <th>2</th>\n",
       "      <td>2020-01-01 02:00:00 EST</td>\n",
       "      <td>91</td>\n",
       "      <td>-1.5</td>\n",
       "      <td>865</td>\n",
       "    </tr>\n",
       "    <tr>\n",
       "      <th>3</th>\n",
       "      <td>2020-01-01 03:00:00 EST</td>\n",
       "      <td>88</td>\n",
       "      <td>-1.1</td>\n",
       "      <td>852</td>\n",
       "    </tr>\n",
       "    <tr>\n",
       "      <th>4</th>\n",
       "      <td>2020-01-01 04:00:00 EST</td>\n",
       "      <td>87</td>\n",
       "      <td>-1.3</td>\n",
       "      <td>852</td>\n",
       "    </tr>\n",
       "    <tr>\n",
       "      <th>...</th>\n",
       "      <td>...</td>\n",
       "      <td>...</td>\n",
       "      <td>...</td>\n",
       "      <td>...</td>\n",
       "    </tr>\n",
       "    <tr>\n",
       "      <th>8755</th>\n",
       "      <td>2020-12-30 19:00:00 EST</td>\n",
       "      <td>95</td>\n",
       "      <td>-1.2</td>\n",
       "      <td>1180</td>\n",
       "    </tr>\n",
       "    <tr>\n",
       "      <th>8756</th>\n",
       "      <td>2020-12-30 20:00:00 EST</td>\n",
       "      <td>93</td>\n",
       "      <td>0.8</td>\n",
       "      <td>1133</td>\n",
       "    </tr>\n",
       "    <tr>\n",
       "      <th>8757</th>\n",
       "      <td>2020-12-30 21:00:00 EST</td>\n",
       "      <td>94</td>\n",
       "      <td>1.9</td>\n",
       "      <td>1073</td>\n",
       "    </tr>\n",
       "    <tr>\n",
       "      <th>8758</th>\n",
       "      <td>2020-12-30 22:00:00 EST</td>\n",
       "      <td>93</td>\n",
       "      <td>2.2</td>\n",
       "      <td>994</td>\n",
       "    </tr>\n",
       "    <tr>\n",
       "      <th>8759</th>\n",
       "      <td>2020-12-30 23:00:00 EST</td>\n",
       "      <td>95</td>\n",
       "      <td>2.6</td>\n",
       "      <td>919</td>\n",
       "    </tr>\n",
       "  </tbody>\n",
       "</table>\n",
       "<p>8760 rows × 4 columns</p>\n",
       "</div>"
      ],
      "text/plain": [
       "                         DATE  Humidity  Temperature  Electricity\n",
       "0     2020-01-01 00:00:00 EST        92         -1.1          914\n",
       "1     2020-01-01 01:00:00 EST        92         -1.5          887\n",
       "2     2020-01-01 02:00:00 EST        91         -1.5          865\n",
       "3     2020-01-01 03:00:00 EST        88         -1.1          852\n",
       "4     2020-01-01 04:00:00 EST        87         -1.3          852\n",
       "...                       ...       ...          ...          ...\n",
       "8755  2020-12-30 19:00:00 EST        95         -1.2         1180\n",
       "8756  2020-12-30 20:00:00 EST        93          0.8         1133\n",
       "8757  2020-12-30 21:00:00 EST        94          1.9         1073\n",
       "8758  2020-12-30 22:00:00 EST        93          2.2          994\n",
       "8759  2020-12-30 23:00:00 EST        95          2.6          919\n",
       "\n",
       "[8760 rows x 4 columns]"
      ]
     },
     "metadata": {},
     "output_type": "display_data"
    }
   ],
   "source": [
    "df = pd.read_csv(r\"E:\\Academics\\Notes\\Deep Learning\\Batch 103 Day 52\\Electricity Consumption.csv\")\n",
    "\n",
    "display (df)\n"
   ]
  },
  {
   "cell_type": "code",
   "execution_count": 3,
   "id": "174b5186-1d48-4da8-8d28-be99f3ad2bb9",
   "metadata": {},
   "outputs": [
    {
     "data": {
      "text/plain": [
       "(8760, 4)"
      ]
     },
     "metadata": {},
     "output_type": "display_data"
    }
   ],
   "source": [
    "df.dropna(inplace=True)\n",
    "\n",
    "display (df.shape )\n"
   ]
  },
  {
   "cell_type": "code",
   "execution_count": 4,
   "id": "bb2ef1d3-626b-4141-b3b4-bf0939674055",
   "metadata": {},
   "outputs": [
    {
     "data": {
      "text/html": [
       "<div>\n",
       "<style scoped>\n",
       "    .dataframe tbody tr th:only-of-type {\n",
       "        vertical-align: middle;\n",
       "    }\n",
       "\n",
       "    .dataframe tbody tr th {\n",
       "        vertical-align: top;\n",
       "    }\n",
       "\n",
       "    .dataframe thead th {\n",
       "        text-align: right;\n",
       "    }\n",
       "</style>\n",
       "<table border=\"1\" class=\"dataframe\">\n",
       "  <thead>\n",
       "    <tr style=\"text-align: right;\">\n",
       "      <th></th>\n",
       "      <th>Humidity</th>\n",
       "      <th>Temperature</th>\n",
       "      <th>Electricity</th>\n",
       "    </tr>\n",
       "  </thead>\n",
       "  <tbody>\n",
       "    <tr>\n",
       "      <th>0</th>\n",
       "      <td>92</td>\n",
       "      <td>-1.1</td>\n",
       "      <td>914</td>\n",
       "    </tr>\n",
       "    <tr>\n",
       "      <th>1</th>\n",
       "      <td>92</td>\n",
       "      <td>-1.5</td>\n",
       "      <td>887</td>\n",
       "    </tr>\n",
       "    <tr>\n",
       "      <th>2</th>\n",
       "      <td>91</td>\n",
       "      <td>-1.5</td>\n",
       "      <td>865</td>\n",
       "    </tr>\n",
       "    <tr>\n",
       "      <th>3</th>\n",
       "      <td>88</td>\n",
       "      <td>-1.1</td>\n",
       "      <td>852</td>\n",
       "    </tr>\n",
       "    <tr>\n",
       "      <th>4</th>\n",
       "      <td>87</td>\n",
       "      <td>-1.3</td>\n",
       "      <td>852</td>\n",
       "    </tr>\n",
       "    <tr>\n",
       "      <th>...</th>\n",
       "      <td>...</td>\n",
       "      <td>...</td>\n",
       "      <td>...</td>\n",
       "    </tr>\n",
       "    <tr>\n",
       "      <th>8755</th>\n",
       "      <td>95</td>\n",
       "      <td>-1.2</td>\n",
       "      <td>1180</td>\n",
       "    </tr>\n",
       "    <tr>\n",
       "      <th>8756</th>\n",
       "      <td>93</td>\n",
       "      <td>0.8</td>\n",
       "      <td>1133</td>\n",
       "    </tr>\n",
       "    <tr>\n",
       "      <th>8757</th>\n",
       "      <td>94</td>\n",
       "      <td>1.9</td>\n",
       "      <td>1073</td>\n",
       "    </tr>\n",
       "    <tr>\n",
       "      <th>8758</th>\n",
       "      <td>93</td>\n",
       "      <td>2.2</td>\n",
       "      <td>994</td>\n",
       "    </tr>\n",
       "    <tr>\n",
       "      <th>8759</th>\n",
       "      <td>95</td>\n",
       "      <td>2.6</td>\n",
       "      <td>919</td>\n",
       "    </tr>\n",
       "  </tbody>\n",
       "</table>\n",
       "<p>8760 rows × 3 columns</p>\n",
       "</div>"
      ],
      "text/plain": [
       "      Humidity  Temperature  Electricity\n",
       "0           92         -1.1          914\n",
       "1           92         -1.5          887\n",
       "2           91         -1.5          865\n",
       "3           88         -1.1          852\n",
       "4           87         -1.3          852\n",
       "...        ...          ...          ...\n",
       "8755        95         -1.2         1180\n",
       "8756        93          0.8         1133\n",
       "8757        94          1.9         1073\n",
       "8758        93          2.2          994\n",
       "8759        95          2.6          919\n",
       "\n",
       "[8760 rows x 3 columns]"
      ]
     },
     "metadata": {},
     "output_type": "display_data"
    }
   ],
   "source": [
    "df_corr = df.drop('DATE', axis =1)\n",
    "display(df_corr)\n",
    "\n"
   ]
  },
  {
   "cell_type": "code",
   "execution_count": 5,
   "id": "45776a71-eb01-4b2f-bb92-158ab75535bb",
   "metadata": {},
   "outputs": [
    {
     "data": {
      "image/png": "[encoded data removed]",
      "text/plain": [
       "<Figure size 2000x1000 with 2 Axes>"
      ]
     },
     "metadata": {},
     "output_type": "display_data"
    }
   ],
   "source": [
    "import seaborn as sn\n",
    "\n",
    "sn.heatmap(df_corr.corr(), annot=True )\n",
    "\n",
    "plt.show()\n"
   ]
  },
  {
   "cell_type": "code",
   "execution_count": 6,
   "id": "98942a75-e5f0-4cdc-a260-c3c14bf6876c",
   "metadata": {},
   "outputs": [
    {
     "data": {
      "text/plain": [
       "(8712, 3)"
      ]
     },
     "metadata": {},
     "output_type": "display_data"
    },
    {
     "data": {
      "text/plain": [
       "(48, 3)"
      ]
     },
     "metadata": {},
     "output_type": "display_data"
    }
   ],
   "source": [
    "training_set = df.iloc[:8712, 1:4].values\n",
    "display (training_set.shape)\n",
    "test_set = df.iloc[8712:, 1:4].values\n",
    "display (test_set.shape)\n"
   ]
  },
  {
   "cell_type": "code",
   "execution_count": 7,
   "id": "836d7db0-28ef-4e06-86b2-6cd675cb346a",
   "metadata": {},
   "outputs": [],
   "source": [
    "from sklearn.preprocessing import MinMaxScaler\n",
    "sc = MinMaxScaler(feature_range = (0,1))\n",
    "training_set_scaled = sc.fit_transform(training_set) # Training Set \n",
    "test_set_scaled = sc.fit_transform(test_set) # Test Set\n"
   ]
  },
  {
   "cell_type": "code",
   "execution_count": 8,
   "id": "789ff1b4-9624-48c3-a878-cc815f071905",
   "metadata": {},
   "outputs": [
    {
     "data": {
      "text/plain": [
       "array([[0.61702128, 0.375     ],\n",
       "       [0.70212766, 0.30555556],\n",
       "       [0.68085106, 0.22222222],\n",
       "       [0.65957447, 0.1875    ],\n",
       "       [0.65957447, 0.15972222],\n",
       "       [0.68085106, 0.125     ],\n",
       "       [0.63829787, 0.08333333],\n",
       "       [0.63829787, 0.02777778],\n",
       "       [0.63829787, 0.        ],\n",
       "       [0.61702128, 0.04166667],\n",
       "       [0.53191489, 0.09722222],\n",
       "       [0.46808511, 0.15972222],\n",
       "       [0.31914894, 0.22222222],\n",
       "       [0.21276596, 0.28472222],\n",
       "       [0.14893617, 0.29861111],\n",
       "       [0.        , 0.34027778],\n",
       "       [0.04255319, 0.3125    ],\n",
       "       [0.21276596, 0.21527778],\n",
       "       [0.27659574, 0.21527778],\n",
       "       [0.44680851, 0.125     ],\n",
       "       [0.44680851, 0.13194444],\n",
       "       [0.53191489, 0.20138889],\n",
       "       [0.57446809, 0.19444444],\n",
       "       [0.5106383 , 0.22222222],\n",
       "       [0.55319149, 0.22916667],\n",
       "       [0.59574468, 0.20833333],\n",
       "       [0.59574468, 0.22916667],\n",
       "       [0.63829787, 0.22916667],\n",
       "       [0.70212766, 0.23611111],\n",
       "       [0.72340426, 0.24305556],\n",
       "       [0.74468085, 0.23611111],\n",
       "       [0.72340426, 0.28472222],\n",
       "       [0.72340426, 0.30555556],\n",
       "       [0.63829787, 0.41666667],\n",
       "       [0.61702128, 0.48611111],\n",
       "       [0.65957447, 0.5       ],\n",
       "       [0.89361702, 0.5       ],\n",
       "       [0.85106383, 0.54166667],\n",
       "       [0.85106383, 0.55555556],\n",
       "       [0.93617021, 0.57638889],\n",
       "       [0.95744681, 0.59027778],\n",
       "       [0.9787234 , 0.63888889],\n",
       "       [0.9787234 , 0.68055556],\n",
       "       [1.        , 0.73611111],\n",
       "       [0.95744681, 0.875     ],\n",
       "       [0.9787234 , 0.95138889],\n",
       "       [0.95744681, 0.97222222],\n",
       "       [1.        , 1.        ]])"
      ]
     },
     "metadata": {},
     "output_type": "display_data"
    }
   ],
   "source": [
    "test_set_scaled = test_set_scaled[:, 0:2]\n",
    "display (test_set_scaled)\n"
   ]
  },
  {
   "cell_type": "code",
   "execution_count": 9,
   "id": "1478ed36-ea0e-4a18-8ffc-8cda81a89e0c",
   "metadata": {},
   "outputs": [],
   "source": [
    "X_train = []\n",
    "y_train = []\n",
    "WS = 24\n"
   ]
  },
  {
   "cell_type": "code",
   "execution_count": 10,
   "id": "09b7573b-6e8c-43b6-8a10-2bd7195695fa",
   "metadata": {},
   "outputs": [],
   "source": [
    "for i in range(WS, len(training_set_scaled)):\n",
    "    X_train.append(training_set_scaled[i-WS:i, 0:3])\n",
    "    y_train.append(training_set_scaled[i,2])\n"
   ]
  },
  {
   "cell_type": "code",
   "execution_count": 11,
   "id": "1db1e758-6587-4f0a-8e8a-29da85a31a0a",
   "metadata": {},
   "outputs": [
    {
     "data": {
      "text/plain": [
       "(8688, 24, 3)"
      ]
     },
     "metadata": {},
     "output_type": "display_data"
    }
   ],
   "source": [
    "X_train = np.array(X_train)\n",
    "display (X_train.shape)\n"
   ]
  },
  {
   "cell_type": "code",
   "execution_count": 12,
   "id": "9e456aa8-a893-458e-b461-335cc1d4c033",
   "metadata": {},
   "outputs": [
    {
     "data": {
      "text/plain": [
       "array([[[0.91011236, 0.4       , 0.27878788],\n",
       "        [0.91011236, 0.3936    , 0.25541126],\n",
       "        [0.8988764 , 0.3936    , 0.23636364],\n",
       "        ...,\n",
       "        [0.88764045, 0.408     , 0.39047619],\n",
       "        [0.82022472, 0.4048    , 0.34372294],\n",
       "        [0.80898876, 0.4016    , 0.28831169]],\n",
       "\n",
       "       [[0.91011236, 0.3936    , 0.25541126],\n",
       "        [0.8988764 , 0.3936    , 0.23636364],\n",
       "        [0.86516854, 0.4       , 0.22510823],\n",
       "        ...,\n",
       "        [0.82022472, 0.4048    , 0.34372294],\n",
       "        [0.80898876, 0.4016    , 0.28831169],\n",
       "        [0.76404494, 0.3952    , 0.24848485]],\n",
       "\n",
       "       [[0.8988764 , 0.3936    , 0.23636364],\n",
       "        [0.86516854, 0.4       , 0.22510823],\n",
       "        [0.85393258, 0.3968    , 0.22510823],\n",
       "        ...,\n",
       "        [0.80898876, 0.4016    , 0.28831169],\n",
       "        [0.76404494, 0.3952    , 0.24848485],\n",
       "        [0.79775281, 0.3856    , 0.22510823]],\n",
       "\n",
       "       ...,\n",
       "\n",
       "       [[0.71910112, 0.3408    , 0.41125541],\n",
       "        [0.74157303, 0.3472    , 0.35930736],\n",
       "        [0.75280899, 0.3536    , 0.30649351],\n",
       "        ...,\n",
       "        [0.70786517, 0.4096    , 0.55930736],\n",
       "        [0.73033708, 0.3968    , 0.51601732],\n",
       "        [0.7752809 , 0.3872    , 0.48311688]],\n",
       "\n",
       "       [[0.74157303, 0.3472    , 0.35930736],\n",
       "        [0.75280899, 0.3536    , 0.30649351],\n",
       "        [0.76404494, 0.3584    , 0.26493506],\n",
       "        ...,\n",
       "        [0.73033708, 0.3968    , 0.51601732],\n",
       "        [0.7752809 , 0.3872    , 0.48311688],\n",
       "        [0.79775281, 0.3792    , 0.42770563]],\n",
       "\n",
       "       [[0.75280899, 0.3536    , 0.30649351],\n",
       "        [0.76404494, 0.3584    , 0.26493506],\n",
       "        [0.76404494, 0.36      , 0.23549784],\n",
       "        ...,\n",
       "        [0.7752809 , 0.3872    , 0.48311688],\n",
       "        [0.79775281, 0.3792    , 0.42770563],\n",
       "        [0.79775281, 0.368     , 0.38268398]]])"
      ]
     },
     "execution_count": 12,
     "metadata": {},
     "output_type": "execute_result"
    }
   ],
   "source": [
    "X_train"
   ]
  },
  {
   "cell_type": "code",
   "execution_count": 13,
   "id": "ad574183-0701-49ea-ab59-90b3d428d901",
   "metadata": {},
   "outputs": [
    {
     "data": {
      "text/plain": [
       "(8688,)"
      ]
     },
     "metadata": {},
     "output_type": "display_data"
    }
   ],
   "source": [
    "y_train = np.array(y_train)\n",
    "display (y_train.shape)\n"
   ]
  },
  {
   "cell_type": "code",
   "execution_count": 14,
   "id": "5579de3b-51ff-4575-aad4-93227581e042",
   "metadata": {},
   "outputs": [],
   "source": [
    "from keras.models import Sequential\n",
    "from keras.layers import LSTM\n",
    "from keras.layers import Dense\n",
    "from keras.layers import Dropout\n"
   ]
  },
  {
   "cell_type": "code",
   "execution_count": 15,
   "id": "26aa2867-4cad-4567-90bb-ce0779424135",
   "metadata": {},
   "outputs": [],
   "source": [
    "Model = Sequential()\n",
    "\n",
    "Model.add(LSTM(units = 70, return_sequences = True, input_shape = (X_train.shape[1], 3)))\n",
    "\n",
    "# Drop out to reduce over fitting remove few neurons \n",
    "\n",
    "Model.add(Dropout(0.2))\n",
    "\n",
    "\n"
   ]
  },
  {
   "cell_type": "code",
   "execution_count": 16,
   "id": "a06cdc8a-5713-4734-b5de-08c890e4019d",
   "metadata": {},
   "outputs": [],
   "source": [
    "Model.add(LSTM(units = 70, return_sequences = True))\n",
    "\n",
    "Model.add(Dropout(0.2))\n"
   ]
  },
  {
   "cell_type": "code",
   "execution_count": 17,
   "id": "fa271e90-03a3-49ae-8b07-11e55915268c",
   "metadata": {},
   "outputs": [],
   "source": [
    "Model.add(LSTM(units = 70, return_sequences = True))\n",
    "\n",
    "Model.add(Dropout(0.2))\n"
   ]
  },
  {
   "cell_type": "code",
   "execution_count": 18,
   "id": "f168646a-7191-4a9c-bda3-ccad013ccc70",
   "metadata": {},
   "outputs": [],
   "source": [
    "Model.add(LSTM(units = 70))\n",
    "\n",
    "Model.add(Dropout(0.2))\n"
   ]
  },
  {
   "cell_type": "code",
   "execution_count": 19,
   "id": "5c86af6b-5e58-4438-97f8-99825197ebb0",
   "metadata": {},
   "outputs": [],
   "source": [
    "Model.add(Dense(units = 1))"
   ]
  },
  {
   "cell_type": "code",
   "execution_count": 20,
   "id": "e5d7641c-7e4b-4458-a49a-a4632c45c099",
   "metadata": {},
   "outputs": [],
   "source": [
    "Model.compile(optimizer = 'adam', loss = 'mean_squared_error')"
   ]
  },
  {
   "cell_type": "code",
   "execution_count": 21,
   "id": "26b26c7d-0aca-451a-88b6-2a95d8f8728b",
   "metadata": {},
   "outputs": [
    {
     "name": "stdout",
     "output_type": "stream",
     "text": [
      "Epoch 1/80\n",
      "\u001b[1m272/272\u001b[0m \u001b[32m━━━━━━━━━━━━━━━━━━━━\u001b[0m\u001b[37m\u001b[0m \u001b[1m29s\u001b[0m 63ms/step - loss: 0.0242\n",
      "Epoch 2/80\n",
      "\u001b[1m272/272\u001b[0m \u001b[32m━━━━━━━━━━━━━━━━━━━━\u001b[0m\u001b[37m\u001b[0m \u001b[1m17s\u001b[0m 62ms/step - loss: 0.0064\n",
      "Epoch 3/80\n",
      "\u001b[1m272/272\u001b[0m \u001b[32m━━━━━━━━━━━━━━━━━━━━\u001b[0m\u001b[37m\u001b[0m \u001b[1m18s\u001b[0m 66ms/step - loss: 0.0055\n",
      "Epoch 4/80\n",
      "\u001b[1m272/272\u001b[0m \u001b[32m━━━━━━━━━━━━━━━━━━━━\u001b[0m\u001b[37m\u001b[0m \u001b[1m19s\u001b[0m 68ms/step - loss: 0.0052\n",
      "Epoch 5/80\n",
      "\u001b[1m272/272\u001b[0m \u001b[32m━━━━━━━━━━━━━━━━━━━━\u001b[0m\u001b[37m\u001b[0m \u001b[1m17s\u001b[0m 62ms/step - loss: 0.0046\n",
      "Epoch 6/80\n",
      "\u001b[1m272/272\u001b[0m \u001b[32m━━━━━━━━━━━━━━━━━━━━\u001b[0m\u001b[37m\u001b[0m \u001b[1m15s\u001b[0m 54ms/step - loss: 0.0041\n",
      "Epoch 7/80\n",
      "\u001b[1m272/272\u001b[0m \u001b[32m━━━━━━━━━━━━━━━━━━━━\u001b[0m\u001b[37m\u001b[0m \u001b[1m15s\u001b[0m 55ms/step - loss: 0.0032\n",
      "Epoch 8/80\n",
      "\u001b[1m272/272\u001b[0m \u001b[32m━━━━━━━━━━━━━━━━━━━━\u001b[0m\u001b[37m\u001b[0m \u001b[1m15s\u001b[0m 54ms/step - loss: 0.0025\n",
      "Epoch 9/80\n",
      "\u001b[1m272/272\u001b[0m \u001b[32m━━━━━━━━━━━━━━━━━━━━\u001b[0m\u001b[37m\u001b[0m \u001b[1m15s\u001b[0m 53ms/step - loss: 0.0021\n",
      "Epoch 10/80\n",
      "\u001b[1m272/272\u001b[0m \u001b[32m━━━━━━━━━━━━━━━━━━━━\u001b[0m\u001b[37m\u001b[0m \u001b[1m15s\u001b[0m 53ms/step - loss: 0.0018\n",
      "Epoch 11/80\n",
      "\u001b[1m272/272\u001b[0m \u001b[32m━━━━━━━━━━━━━━━━━━━━\u001b[0m\u001b[37m\u001b[0m \u001b[1m15s\u001b[0m 53ms/step - loss: 0.0016\n",
      "Epoch 12/80\n",
      "\u001b[1m272/272\u001b[0m \u001b[32m━━━━━━━━━━━━━━━━━━━━\u001b[0m\u001b[37m\u001b[0m \u001b[1m15s\u001b[0m 53ms/step - loss: 0.0015\n",
      "Epoch 13/80\n",
      "\u001b[1m272/272\u001b[0m \u001b[32m━━━━━━━━━━━━━━━━━━━━\u001b[0m\u001b[37m\u001b[0m \u001b[1m14s\u001b[0m 53ms/step - loss: 0.0014\n",
      "Epoch 14/80\n",
      "\u001b[1m272/272\u001b[0m \u001b[32m━━━━━━━━━━━━━━━━━━━━\u001b[0m\u001b[37m\u001b[0m \u001b[1m15s\u001b[0m 54ms/step - loss: 0.0013\n",
      "Epoch 15/80\n",
      "\u001b[1m272/272\u001b[0m \u001b[32m━━━━━━━━━━━━━━━━━━━━\u001b[0m\u001b[37m\u001b[0m \u001b[1m15s\u001b[0m 54ms/step - loss: 0.0013\n",
      "Epoch 16/80\n",
      "\u001b[1m272/272\u001b[0m \u001b[32m━━━━━━━━━━━━━━━━━━━━\u001b[0m\u001b[37m\u001b[0m \u001b[1m15s\u001b[0m 54ms/step - loss: 0.0011\n",
      "Epoch 17/80\n",
      "\u001b[1m272/272\u001b[0m \u001b[32m━━━━━━━━━━━━━━━━━━━━\u001b[0m\u001b[37m\u001b[0m \u001b[1m21s\u001b[0m 55ms/step - loss: 0.0011\n",
      "Epoch 18/80\n",
      "\u001b[1m272/272\u001b[0m \u001b[32m━━━━━━━━━━━━━━━━━━━━\u001b[0m\u001b[37m\u001b[0m \u001b[1m14s\u001b[0m 53ms/step - loss: 0.0010\n",
      "Epoch 19/80\n",
      "\u001b[1m272/272\u001b[0m \u001b[32m━━━━━━━━━━━━━━━━━━━━\u001b[0m\u001b[37m\u001b[0m \u001b[1m15s\u001b[0m 54ms/step - loss: 9.4159e-04\n",
      "Epoch 20/80\n",
      "\u001b[1m272/272\u001b[0m \u001b[32m━━━━━━━━━━━━━━━━━━━━\u001b[0m\u001b[37m\u001b[0m \u001b[1m15s\u001b[0m 54ms/step - loss: 0.0010\n",
      "Epoch 21/80\n",
      "\u001b[1m272/272\u001b[0m \u001b[32m━━━━━━━━━━━━━━━━━━━━\u001b[0m\u001b[37m\u001b[0m \u001b[1m15s\u001b[0m 54ms/step - loss: 9.1274e-04\n",
      "Epoch 22/80\n",
      "\u001b[1m272/272\u001b[0m \u001b[32m━━━━━━━━━━━━━━━━━━━━\u001b[0m\u001b[37m\u001b[0m \u001b[1m15s\u001b[0m 54ms/step - loss: 8.5831e-04\n",
      "Epoch 23/80\n",
      "\u001b[1m272/272\u001b[0m \u001b[32m━━━━━━━━━━━━━━━━━━━━\u001b[0m\u001b[37m\u001b[0m \u001b[1m14s\u001b[0m 53ms/step - loss: 8.6272e-04\n",
      "Epoch 24/80\n",
      "\u001b[1m272/272\u001b[0m \u001b[32m━━━━━━━━━━━━━━━━━━━━\u001b[0m\u001b[37m\u001b[0m \u001b[1m14s\u001b[0m 53ms/step - loss: 8.7099e-04\n",
      "Epoch 25/80\n",
      "\u001b[1m272/272\u001b[0m \u001b[32m━━━━━━━━━━━━━━━━━━━━\u001b[0m\u001b[37m\u001b[0m \u001b[1m15s\u001b[0m 54ms/step - loss: 7.9760e-04\n",
      "Epoch 26/80\n",
      "\u001b[1m272/272\u001b[0m \u001b[32m━━━━━━━━━━━━━━━━━━━━\u001b[0m\u001b[37m\u001b[0m \u001b[1m15s\u001b[0m 53ms/step - loss: 8.2796e-04\n",
      "Epoch 27/80\n",
      "\u001b[1m272/272\u001b[0m \u001b[32m━━━━━━━━━━━━━━━━━━━━\u001b[0m\u001b[37m\u001b[0m \u001b[1m15s\u001b[0m 54ms/step - loss: 8.4710e-04\n",
      "Epoch 28/80\n",
      "\u001b[1m272/272\u001b[0m \u001b[32m━━━━━━━━━━━━━━━━━━━━\u001b[0m\u001b[37m\u001b[0m \u001b[1m15s\u001b[0m 54ms/step - loss: 7.8434e-04\n",
      "Epoch 29/80\n",
      "\u001b[1m272/272\u001b[0m \u001b[32m━━━━━━━━━━━━━━━━━━━━\u001b[0m\u001b[37m\u001b[0m \u001b[1m15s\u001b[0m 53ms/step - loss: 7.8841e-04\n",
      "Epoch 30/80\n",
      "\u001b[1m272/272\u001b[0m \u001b[32m━━━━━━━━━━━━━━━━━━━━\u001b[0m\u001b[37m\u001b[0m \u001b[1m15s\u001b[0m 56ms/step - loss: 7.7026e-04\n",
      "Epoch 31/80\n",
      "\u001b[1m272/272\u001b[0m \u001b[32m━━━━━━━━━━━━━━━━━━━━\u001b[0m\u001b[37m\u001b[0m \u001b[1m15s\u001b[0m 53ms/step - loss: 7.7449e-04\n",
      "Epoch 32/80\n",
      "\u001b[1m272/272\u001b[0m \u001b[32m━━━━━━━━━━━━━━━━━━━━\u001b[0m\u001b[37m\u001b[0m \u001b[1m15s\u001b[0m 53ms/step - loss: 8.0861e-04\n",
      "Epoch 33/80\n",
      "\u001b[1m272/272\u001b[0m \u001b[32m━━━━━━━━━━━━━━━━━━━━\u001b[0m\u001b[37m\u001b[0m \u001b[1m15s\u001b[0m 55ms/step - loss: 7.0937e-04\n",
      "Epoch 34/80\n",
      "\u001b[1m272/272\u001b[0m \u001b[32m━━━━━━━━━━━━━━━━━━━━\u001b[0m\u001b[37m\u001b[0m \u001b[1m14s\u001b[0m 52ms/step - loss: 7.3308e-04\n",
      "Epoch 35/80\n",
      "\u001b[1m272/272\u001b[0m \u001b[32m━━━━━━━━━━━━━━━━━━━━\u001b[0m\u001b[37m\u001b[0m \u001b[1m14s\u001b[0m 52ms/step - loss: 7.1190e-04\n",
      "Epoch 36/80\n",
      "\u001b[1m272/272\u001b[0m \u001b[32m━━━━━━━━━━━━━━━━━━━━\u001b[0m\u001b[37m\u001b[0m \u001b[1m15s\u001b[0m 55ms/step - loss: 6.8103e-04\n",
      "Epoch 37/80\n",
      "\u001b[1m272/272\u001b[0m \u001b[32m━━━━━━━━━━━━━━━━━━━━\u001b[0m\u001b[37m\u001b[0m \u001b[1m15s\u001b[0m 54ms/step - loss: 6.8413e-04\n",
      "Epoch 38/80\n",
      "\u001b[1m272/272\u001b[0m \u001b[32m━━━━━━━━━━━━━━━━━━━━\u001b[0m\u001b[37m\u001b[0m \u001b[1m21s\u001b[0m 57ms/step - loss: 7.3384e-04\n",
      "Epoch 39/80\n",
      "\u001b[1m272/272\u001b[0m \u001b[32m━━━━━━━━━━━━━━━━━━━━\u001b[0m\u001b[37m\u001b[0m \u001b[1m14s\u001b[0m 52ms/step - loss: 7.3058e-04\n",
      "Epoch 40/80\n",
      "\u001b[1m272/272\u001b[0m \u001b[32m━━━━━━━━━━━━━━━━━━━━\u001b[0m\u001b[37m\u001b[0m \u001b[1m14s\u001b[0m 52ms/step - loss: 6.9450e-04\n",
      "Epoch 41/80\n",
      "\u001b[1m272/272\u001b[0m \u001b[32m━━━━━━━━━━━━━━━━━━━━\u001b[0m\u001b[37m\u001b[0m \u001b[1m15s\u001b[0m 54ms/step - loss: 6.4315e-04\n",
      "Epoch 42/80\n",
      "\u001b[1m272/272\u001b[0m \u001b[32m━━━━━━━━━━━━━━━━━━━━\u001b[0m\u001b[37m\u001b[0m \u001b[1m15s\u001b[0m 54ms/step - loss: 6.7252e-04\n",
      "Epoch 43/80\n",
      "\u001b[1m272/272\u001b[0m \u001b[32m━━━━━━━━━━━━━━━━━━━━\u001b[0m\u001b[37m\u001b[0m \u001b[1m15s\u001b[0m 54ms/step - loss: 7.4064e-04\n",
      "Epoch 44/80\n",
      "\u001b[1m272/272\u001b[0m \u001b[32m━━━━━━━━━━━━━━━━━━━━\u001b[0m\u001b[37m\u001b[0m \u001b[1m15s\u001b[0m 54ms/step - loss: 6.8491e-04\n",
      "Epoch 45/80\n",
      "\u001b[1m272/272\u001b[0m \u001b[32m━━━━━━━━━━━━━━━━━━━━\u001b[0m\u001b[37m\u001b[0m \u001b[1m15s\u001b[0m 53ms/step - loss: 6.7645e-04\n",
      "Epoch 46/80\n",
      "\u001b[1m272/272\u001b[0m \u001b[32m━━━━━━━━━━━━━━━━━━━━\u001b[0m\u001b[37m\u001b[0m \u001b[1m15s\u001b[0m 54ms/step - loss: 6.8301e-04\n",
      "Epoch 47/80\n",
      "\u001b[1m272/272\u001b[0m \u001b[32m━━━━━━━━━━━━━━━━━━━━\u001b[0m\u001b[37m\u001b[0m \u001b[1m15s\u001b[0m 54ms/step - loss: 6.4739e-04\n",
      "Epoch 48/80\n",
      "\u001b[1m272/272\u001b[0m \u001b[32m━━━━━━━━━━━━━━━━━━━━\u001b[0m\u001b[37m\u001b[0m \u001b[1m15s\u001b[0m 54ms/step - loss: 7.0207e-04\n",
      "Epoch 49/80\n",
      "\u001b[1m272/272\u001b[0m \u001b[32m━━━━━━━━━━━━━━━━━━━━\u001b[0m\u001b[37m\u001b[0m \u001b[1m14s\u001b[0m 52ms/step - loss: 6.2265e-04\n",
      "Epoch 50/80\n",
      "\u001b[1m272/272\u001b[0m \u001b[32m━━━━━━━━━━━━━━━━━━━━\u001b[0m\u001b[37m\u001b[0m \u001b[1m15s\u001b[0m 53ms/step - loss: 6.5720e-04\n",
      "Epoch 51/80\n",
      "\u001b[1m272/272\u001b[0m \u001b[32m━━━━━━━━━━━━━━━━━━━━\u001b[0m\u001b[37m\u001b[0m \u001b[1m14s\u001b[0m 52ms/step - loss: 6.2202e-04\n",
      "Epoch 52/80\n",
      "\u001b[1m272/272\u001b[0m \u001b[32m━━━━━━━━━━━━━━━━━━━━\u001b[0m\u001b[37m\u001b[0m \u001b[1m14s\u001b[0m 53ms/step - loss: 6.1677e-04\n",
      "Epoch 53/80\n",
      "\u001b[1m272/272\u001b[0m \u001b[32m━━━━━━━━━━━━━━━━━━━━\u001b[0m\u001b[37m\u001b[0m \u001b[1m15s\u001b[0m 53ms/step - loss: 6.2639e-04\n",
      "Epoch 54/80\n",
      "\u001b[1m272/272\u001b[0m \u001b[32m━━━━━━━━━━━━━━━━━━━━\u001b[0m\u001b[37m\u001b[0m \u001b[1m14s\u001b[0m 52ms/step - loss: 6.1540e-04\n",
      "Epoch 55/80\n",
      "\u001b[1m272/272\u001b[0m \u001b[32m━━━━━━━━━━━━━━━━━━━━\u001b[0m\u001b[37m\u001b[0m \u001b[1m14s\u001b[0m 52ms/step - loss: 6.0745e-04\n",
      "Epoch 56/80\n",
      "\u001b[1m272/272\u001b[0m \u001b[32m━━━━━━━━━━━━━━━━━━━━\u001b[0m\u001b[37m\u001b[0m \u001b[1m14s\u001b[0m 53ms/step - loss: 6.0520e-04\n",
      "Epoch 57/80\n",
      "\u001b[1m272/272\u001b[0m \u001b[32m━━━━━━━━━━━━━━━━━━━━\u001b[0m\u001b[37m\u001b[0m \u001b[1m14s\u001b[0m 51ms/step - loss: 6.5196e-04\n",
      "Epoch 58/80\n",
      "\u001b[1m272/272\u001b[0m \u001b[32m━━━━━━━━━━━━━━━━━━━━\u001b[0m\u001b[37m\u001b[0m \u001b[1m11s\u001b[0m 39ms/step - loss: 5.9075e-04\n",
      "Epoch 59/80\n",
      "\u001b[1m272/272\u001b[0m \u001b[32m━━━━━━━━━━━━━━━━━━━━\u001b[0m\u001b[37m\u001b[0m \u001b[1m15s\u001b[0m 55ms/step - loss: 6.3018e-04\n",
      "Epoch 60/80\n",
      "\u001b[1m272/272\u001b[0m \u001b[32m━━━━━━━━━━━━━━━━━━━━\u001b[0m\u001b[37m\u001b[0m \u001b[1m15s\u001b[0m 53ms/step - loss: 6.1960e-04\n",
      "Epoch 61/80\n",
      "\u001b[1m272/272\u001b[0m \u001b[32m━━━━━━━━━━━━━━━━━━━━\u001b[0m\u001b[37m\u001b[0m \u001b[1m15s\u001b[0m 53ms/step - loss: 5.8686e-04\n",
      "Epoch 62/80\n",
      "\u001b[1m272/272\u001b[0m \u001b[32m━━━━━━━━━━━━━━━━━━━━\u001b[0m\u001b[37m\u001b[0m \u001b[1m15s\u001b[0m 54ms/step - loss: 5.8054e-04\n",
      "Epoch 63/80\n",
      "\u001b[1m272/272\u001b[0m \u001b[32m━━━━━━━━━━━━━━━━━━━━\u001b[0m\u001b[37m\u001b[0m \u001b[1m15s\u001b[0m 54ms/step - loss: 5.9162e-04\n",
      "Epoch 64/80\n",
      "\u001b[1m272/272\u001b[0m \u001b[32m━━━━━━━━━━━━━━━━━━━━\u001b[0m\u001b[37m\u001b[0m \u001b[1m14s\u001b[0m 53ms/step - loss: 5.9021e-04\n",
      "Epoch 65/80\n",
      "\u001b[1m272/272\u001b[0m \u001b[32m━━━━━━━━━━━━━━━━━━━━\u001b[0m\u001b[37m\u001b[0m \u001b[1m14s\u001b[0m 53ms/step - loss: 5.6701e-04\n",
      "Epoch 66/80\n",
      "\u001b[1m272/272\u001b[0m \u001b[32m━━━━━━━━━━━━━━━━━━━━\u001b[0m\u001b[37m\u001b[0m \u001b[1m14s\u001b[0m 52ms/step - loss: 5.5248e-04\n",
      "Epoch 67/80\n",
      "\u001b[1m272/272\u001b[0m \u001b[32m━━━━━━━━━━━━━━━━━━━━\u001b[0m\u001b[37m\u001b[0m \u001b[1m15s\u001b[0m 53ms/step - loss: 5.6945e-04\n",
      "Epoch 68/80\n",
      "\u001b[1m272/272\u001b[0m \u001b[32m━━━━━━━━━━━━━━━━━━━━\u001b[0m\u001b[37m\u001b[0m \u001b[1m14s\u001b[0m 53ms/step - loss: 5.9191e-04\n",
      "Epoch 69/80\n",
      "\u001b[1m272/272\u001b[0m \u001b[32m━━━━━━━━━━━━━━━━━━━━\u001b[0m\u001b[37m\u001b[0m \u001b[1m15s\u001b[0m 54ms/step - loss: 5.5913e-04\n",
      "Epoch 70/80\n",
      "\u001b[1m272/272\u001b[0m \u001b[32m━━━━━━━━━━━━━━━━━━━━\u001b[0m\u001b[37m\u001b[0m \u001b[1m15s\u001b[0m 54ms/step - loss: 5.7884e-04\n",
      "Epoch 71/80\n",
      "\u001b[1m272/272\u001b[0m \u001b[32m━━━━━━━━━━━━━━━━━━━━\u001b[0m\u001b[37m\u001b[0m \u001b[1m15s\u001b[0m 54ms/step - loss: 5.5124e-04\n",
      "Epoch 72/80\n",
      "\u001b[1m272/272\u001b[0m \u001b[32m━━━━━━━━━━━━━━━━━━━━\u001b[0m\u001b[37m\u001b[0m \u001b[1m14s\u001b[0m 52ms/step - loss: 5.6659e-04\n",
      "Epoch 73/80\n",
      "\u001b[1m272/272\u001b[0m \u001b[32m━━━━━━━━━━━━━━━━━━━━\u001b[0m\u001b[37m\u001b[0m \u001b[1m14s\u001b[0m 52ms/step - loss: 5.7337e-04\n",
      "Epoch 74/80\n",
      "\u001b[1m272/272\u001b[0m \u001b[32m━━━━━━━━━━━━━━━━━━━━\u001b[0m\u001b[37m\u001b[0m \u001b[1m14s\u001b[0m 51ms/step - loss: 5.7232e-04\n",
      "Epoch 75/80\n",
      "\u001b[1m272/272\u001b[0m \u001b[32m━━━━━━━━━━━━━━━━━━━━\u001b[0m\u001b[37m\u001b[0m \u001b[1m14s\u001b[0m 52ms/step - loss: 5.3308e-04\n",
      "Epoch 76/80\n",
      "\u001b[1m272/272\u001b[0m \u001b[32m━━━━━━━━━━━━━━━━━━━━\u001b[0m\u001b[37m\u001b[0m \u001b[1m14s\u001b[0m 51ms/step - loss: 5.4668e-04\n",
      "Epoch 77/80\n",
      "\u001b[1m272/272\u001b[0m \u001b[32m━━━━━━━━━━━━━━━━━━━━\u001b[0m\u001b[37m\u001b[0m \u001b[1m14s\u001b[0m 51ms/step - loss: 5.7978e-04\n",
      "Epoch 78/80\n",
      "\u001b[1m272/272\u001b[0m \u001b[32m━━━━━━━━━━━━━━━━━━━━\u001b[0m\u001b[37m\u001b[0m \u001b[1m14s\u001b[0m 53ms/step - loss: 5.6704e-04\n",
      "Epoch 79/80\n",
      "\u001b[1m272/272\u001b[0m \u001b[32m━━━━━━━━━━━━━━━━━━━━\u001b[0m\u001b[37m\u001b[0m \u001b[1m14s\u001b[0m 52ms/step - loss: 5.5910e-04\n",
      "Epoch 80/80\n",
      "\u001b[1m272/272\u001b[0m \u001b[32m━━━━━━━━━━━━━━━━━━━━\u001b[0m\u001b[37m\u001b[0m \u001b[1m14s\u001b[0m 52ms/step - loss: 5.7814e-04\n"
     ]
    },
    {
     "data": {
      "text/plain": [
       "<keras.src.callbacks.history.History at 0x2098a185880>"
      ]
     },
     "execution_count": 21,
     "metadata": {},
     "output_type": "execute_result"
    }
   ],
   "source": [
    "Model.fit(X_train,y_train, epochs = 80, batch_size = 32)"
   ]
  },
  {
   "cell_type": "code",
   "execution_count": 22,
   "id": "0a967b83-f8eb-4081-bd92-2d3087f0e060",
   "metadata": {},
   "outputs": [],
   "source": [
    "prediction_test = []\n",
    "\n",
    "# Batch one is last 24 hours data \n",
    "Batch_one = training_set_scaled[-24:]\n",
    "\n",
    "# Prediction with three input variables \n",
    "# Reshape Batch one , Three input features \n",
    "\n",
    "Batch_New = Batch_one.reshape((1,24,3))\n"
   ]
  },
  {
   "cell_type": "code",
   "execution_count": 23,
   "id": "98ee202e-eb3c-4ded-91a8-28c7449bad74",
   "metadata": {},
   "outputs": [
    {
     "name": "stdout",
     "output_type": "stream",
     "text": [
      "\u001b[1m1/1\u001b[0m \u001b[32m━━━━━━━━━━━━━━━━━━━━\u001b[0m\u001b[37m\u001b[0m \u001b[1m1s\u001b[0m 963ms/step\n",
      "\u001b[1m1/1\u001b[0m \u001b[32m━━━━━━━━━━━━━━━━━━━━\u001b[0m\u001b[37m\u001b[0m \u001b[1m0s\u001b[0m 82ms/step\n",
      "\u001b[1m1/1\u001b[0m \u001b[32m━━━━━━━━━━━━━━━━━━━━\u001b[0m\u001b[37m\u001b[0m \u001b[1m0s\u001b[0m 92ms/step\n",
      "\u001b[1m1/1\u001b[0m \u001b[32m━━━━━━━━━━━━━━━━━━━━\u001b[0m\u001b[37m\u001b[0m \u001b[1m0s\u001b[0m 82ms/step\n",
      "\u001b[1m1/1\u001b[0m \u001b[32m━━━━━━━━━━━━━━━━━━━━\u001b[0m\u001b[37m\u001b[0m \u001b[1m0s\u001b[0m 74ms/step\n",
      "\u001b[1m1/1\u001b[0m \u001b[32m━━━━━━━━━━━━━━━━━━━━\u001b[0m\u001b[37m\u001b[0m \u001b[1m0s\u001b[0m 77ms/step\n",
      "\u001b[1m1/1\u001b[0m \u001b[32m━━━━━━━━━━━━━━━━━━━━\u001b[0m\u001b[37m\u001b[0m \u001b[1m0s\u001b[0m 115ms/step\n",
      "\u001b[1m1/1\u001b[0m \u001b[32m━━━━━━━━━━━━━━━━━━━━\u001b[0m\u001b[37m\u001b[0m \u001b[1m0s\u001b[0m 75ms/step\n",
      "\u001b[1m1/1\u001b[0m \u001b[32m━━━━━━━━━━━━━━━━━━━━\u001b[0m\u001b[37m\u001b[0m \u001b[1m0s\u001b[0m 75ms/step\n",
      "\u001b[1m1/1\u001b[0m \u001b[32m━━━━━━━━━━━━━━━━━━━━\u001b[0m\u001b[37m\u001b[0m \u001b[1m0s\u001b[0m 75ms/step\n",
      "\u001b[1m1/1\u001b[0m \u001b[32m━━━━━━━━━━━━━━━━━━━━\u001b[0m\u001b[37m\u001b[0m \u001b[1m0s\u001b[0m 82ms/step\n",
      "\u001b[1m1/1\u001b[0m \u001b[32m━━━━━━━━━━━━━━━━━━━━\u001b[0m\u001b[37m\u001b[0m \u001b[1m0s\u001b[0m 99ms/step\n",
      "\u001b[1m1/1\u001b[0m \u001b[32m━━━━━━━━━━━━━━━━━━━━\u001b[0m\u001b[37m\u001b[0m \u001b[1m0s\u001b[0m 77ms/step\n",
      "\u001b[1m1/1\u001b[0m \u001b[32m━━━━━━━━━━━━━━━━━━━━\u001b[0m\u001b[37m\u001b[0m \u001b[1m0s\u001b[0m 84ms/step\n",
      "\u001b[1m1/1\u001b[0m \u001b[32m━━━━━━━━━━━━━━━━━━━━\u001b[0m\u001b[37m\u001b[0m \u001b[1m0s\u001b[0m 75ms/step\n",
      "\u001b[1m1/1\u001b[0m \u001b[32m━━━━━━━━━━━━━━━━━━━━\u001b[0m\u001b[37m\u001b[0m \u001b[1m0s\u001b[0m 82ms/step\n",
      "\u001b[1m1/1\u001b[0m \u001b[32m━━━━━━━━━━━━━━━━━━━━\u001b[0m\u001b[37m\u001b[0m \u001b[1m0s\u001b[0m 91ms/step\n",
      "\u001b[1m1/1\u001b[0m \u001b[32m━━━━━━━━━━━━━━━━━━━━\u001b[0m\u001b[37m\u001b[0m \u001b[1m0s\u001b[0m 82ms/step\n",
      "\u001b[1m1/1\u001b[0m \u001b[32m━━━━━━━━━━━━━━━━━━━━\u001b[0m\u001b[37m\u001b[0m \u001b[1m0s\u001b[0m 151ms/step\n",
      "\u001b[1m1/1\u001b[0m \u001b[32m━━━━━━━━━━━━━━━━━━━━\u001b[0m\u001b[37m\u001b[0m \u001b[1m0s\u001b[0m 74ms/step\n",
      "\u001b[1m1/1\u001b[0m \u001b[32m━━━━━━━━━━━━━━━━━━━━\u001b[0m\u001b[37m\u001b[0m \u001b[1m0s\u001b[0m 68ms/step\n",
      "\u001b[1m1/1\u001b[0m \u001b[32m━━━━━━━━━━━━━━━━━━━━\u001b[0m\u001b[37m\u001b[0m \u001b[1m0s\u001b[0m 74ms/step\n",
      "\u001b[1m1/1\u001b[0m \u001b[32m━━━━━━━━━━━━━━━━━━━━\u001b[0m\u001b[37m\u001b[0m \u001b[1m0s\u001b[0m 74ms/step\n",
      "\u001b[1m1/1\u001b[0m \u001b[32m━━━━━━━━━━━━━━━━━━━━\u001b[0m\u001b[37m\u001b[0m \u001b[1m0s\u001b[0m 65ms/step\n",
      "\u001b[1m1/1\u001b[0m \u001b[32m━━━━━━━━━━━━━━━━━━━━\u001b[0m\u001b[37m\u001b[0m \u001b[1m0s\u001b[0m 73ms/step\n",
      "\u001b[1m1/1\u001b[0m \u001b[32m━━━━━━━━━━━━━━━━━━━━\u001b[0m\u001b[37m\u001b[0m \u001b[1m0s\u001b[0m 74ms/step\n",
      "\u001b[1m1/1\u001b[0m \u001b[32m━━━━━━━━━━━━━━━━━━━━\u001b[0m\u001b[37m\u001b[0m \u001b[1m0s\u001b[0m 82ms/step\n",
      "\u001b[1m1/1\u001b[0m \u001b[32m━━━━━━━━━━━━━━━━━━━━\u001b[0m\u001b[37m\u001b[0m \u001b[1m0s\u001b[0m 75ms/step\n",
      "\u001b[1m1/1\u001b[0m \u001b[32m━━━━━━━━━━━━━━━━━━━━\u001b[0m\u001b[37m\u001b[0m \u001b[1m0s\u001b[0m 76ms/step\n",
      "\u001b[1m1/1\u001b[0m \u001b[32m━━━━━━━━━━━━━━━━━━━━\u001b[0m\u001b[37m\u001b[0m \u001b[1m0s\u001b[0m 74ms/step\n",
      "\u001b[1m1/1\u001b[0m \u001b[32m━━━━━━━━━━━━━━━━━━━━\u001b[0m\u001b[37m\u001b[0m \u001b[1m0s\u001b[0m 153ms/step\n",
      "\u001b[1m1/1\u001b[0m \u001b[32m━━━━━━━━━━━━━━━━━━━━\u001b[0m\u001b[37m\u001b[0m \u001b[1m0s\u001b[0m 75ms/step\n",
      "\u001b[1m1/1\u001b[0m \u001b[32m━━━━━━━━━━━━━━━━━━━━\u001b[0m\u001b[37m\u001b[0m \u001b[1m0s\u001b[0m 74ms/step\n",
      "\u001b[1m1/1\u001b[0m \u001b[32m━━━━━━━━━━━━━━━━━━━━\u001b[0m\u001b[37m\u001b[0m \u001b[1m0s\u001b[0m 90ms/step\n",
      "\u001b[1m1/1\u001b[0m \u001b[32m━━━━━━━━━━━━━━━━━━━━\u001b[0m\u001b[37m\u001b[0m \u001b[1m0s\u001b[0m 74ms/step\n",
      "\u001b[1m1/1\u001b[0m \u001b[32m━━━━━━━━━━━━━━━━━━━━\u001b[0m\u001b[37m\u001b[0m \u001b[1m0s\u001b[0m 84ms/step\n",
      "\u001b[1m1/1\u001b[0m \u001b[32m━━━━━━━━━━━━━━━━━━━━\u001b[0m\u001b[37m\u001b[0m \u001b[1m0s\u001b[0m 72ms/step\n",
      "\u001b[1m1/1\u001b[0m \u001b[32m━━━━━━━━━━━━━━━━━━━━\u001b[0m\u001b[37m\u001b[0m \u001b[1m0s\u001b[0m 82ms/step\n",
      "\u001b[1m1/1\u001b[0m \u001b[32m━━━━━━━━━━━━━━━━━━━━\u001b[0m\u001b[37m\u001b[0m \u001b[1m0s\u001b[0m 100ms/step\n",
      "\u001b[1m1/1\u001b[0m \u001b[32m━━━━━━━━━━━━━━━━━━━━\u001b[0m\u001b[37m\u001b[0m \u001b[1m0s\u001b[0m 83ms/step\n",
      "\u001b[1m1/1\u001b[0m \u001b[32m━━━━━━━━━━━━━━━━━━━━\u001b[0m\u001b[37m\u001b[0m \u001b[1m0s\u001b[0m 74ms/step\n",
      "\u001b[1m1/1\u001b[0m \u001b[32m━━━━━━━━━━━━━━━━━━━━\u001b[0m\u001b[37m\u001b[0m \u001b[1m0s\u001b[0m 75ms/step\n",
      "\u001b[1m1/1\u001b[0m \u001b[32m━━━━━━━━━━━━━━━━━━━━\u001b[0m\u001b[37m\u001b[0m \u001b[1m0s\u001b[0m 75ms/step\n",
      "\u001b[1m1/1\u001b[0m \u001b[32m━━━━━━━━━━━━━━━━━━━━\u001b[0m\u001b[37m\u001b[0m \u001b[1m0s\u001b[0m 99ms/step\n",
      "\u001b[1m1/1\u001b[0m \u001b[32m━━━━━━━━━━━━━━━━━━━━\u001b[0m\u001b[37m\u001b[0m \u001b[1m0s\u001b[0m 74ms/step\n",
      "\u001b[1m1/1\u001b[0m \u001b[32m━━━━━━━━━━━━━━━━━━━━\u001b[0m\u001b[37m\u001b[0m \u001b[1m0s\u001b[0m 77ms/step\n",
      "\u001b[1m1/1\u001b[0m \u001b[32m━━━━━━━━━━━━━━━━━━━━\u001b[0m\u001b[37m\u001b[0m \u001b[1m0s\u001b[0m 89ms/step\n",
      "\u001b[1m1/1\u001b[0m \u001b[32m━━━━━━━━━━━━━━━━━━━━\u001b[0m\u001b[37m\u001b[0m \u001b[1m0s\u001b[0m 82ms/step\n"
     ]
    }
   ],
   "source": [
    "for i in range(48):\n",
    "    \n",
    "    # First Prediction is based on last 24 periods \n",
    "    First_pred = Model.predict(Batch_New)[0]\n",
    "    \n",
    "    prediction_test.append(First_pred)\n",
    "    \n",
    "    # This will have independent variable test set ie Humidity and Temperature\n",
    "    New_var = test_set_scaled[i,:]\n",
    "    \n",
    "    # Reshape independent variable\n",
    "    New_var = New_var.reshape(1,2)\n",
    "    \n",
    "    # Add previous prediction to test data \n",
    "\n",
    "    New_test = np.insert(New_var, 2, [First_pred], axis =1)\n",
    "    \n",
    "    New_test = New_test.reshape(1,1,3)\n",
    "    \n",
    "    Batch_New = np.append(Batch_New[:,1:,:], New_test, axis=1)\n"
   ]
  },
  {
   "cell_type": "code",
   "execution_count": 24,
   "id": "c6fb1856-040e-4bf5-9ace-5b2d7c4757ee",
   "metadata": {},
   "outputs": [
    {
     "data": {
      "text/plain": [
       "array([[0.2859565 ],\n",
       "       [0.2573876 ],\n",
       "       [0.24499094],\n",
       "       [0.24616188],\n",
       "       [0.26121935],\n",
       "       [0.29840666],\n",
       "       [0.35908   ],\n",
       "       [0.41672832],\n",
       "       [0.4452343 ],\n",
       "       [0.4481178 ],\n",
       "       [0.4434403 ],\n",
       "       [0.44653398],\n",
       "       [0.4589619 ],\n",
       "       [0.47582912],\n",
       "       [0.49314547],\n",
       "       [0.52175057],\n",
       "       [0.6098949 ],\n",
       "       [0.69696593],\n",
       "       [0.67850757],\n",
       "       [0.62736523],\n",
       "       [0.5775419 ],\n",
       "       [0.5140263 ],\n",
       "       [0.43860808],\n",
       "       [0.37366945],\n",
       "       [0.3313614 ],\n",
       "       [0.30970058],\n",
       "       [0.30259266],\n",
       "       [0.3074896 ],\n",
       "       [0.32979292],\n",
       "       [0.38785523],\n",
       "       [0.48589033],\n",
       "       [0.5477768 ],\n",
       "       [0.55537915],\n",
       "       [0.5486758 ],\n",
       "       [0.5466533 ],\n",
       "       [0.54754555],\n",
       "       [0.53927994],\n",
       "       [0.51369274],\n",
       "       [0.4847015 ],\n",
       "       [0.47478557],\n",
       "       [0.5041374 ],\n",
       "       [0.5191864 ],\n",
       "       [0.48814166],\n",
       "       [0.4523057 ],\n",
       "       [0.42540267],\n",
       "       [0.39288887],\n",
       "       [0.35228223],\n",
       "       [0.31558987]], dtype=float32)"
      ]
     },
     "metadata": {},
     "output_type": "display_data"
    }
   ],
   "source": [
    "prediction_test = np.array(prediction_test)\n",
    "\n",
    "display (prediction_test)\n"
   ]
  },
  {
   "cell_type": "code",
   "execution_count": 25,
   "id": "191cb4c2-a4dd-4e9a-a92a-77319ee7d6c5",
   "metadata": {},
   "outputs": [],
   "source": [
    "SI = MinMaxScaler(feature_range = (0,1))"
   ]
  },
  {
   "cell_type": "code",
   "execution_count": 26,
   "id": "def56b39-9fa0-4382-9bc5-99a550106d69",
   "metadata": {},
   "outputs": [
    {
     "data": {
      "text/plain": [
       "array([[0.27878788],\n",
       "       [0.25541126],\n",
       "       [0.23636364],\n",
       "       ...,\n",
       "       [0.42770563],\n",
       "       [0.38268398],\n",
       "       [0.33506494]])"
      ]
     },
     "execution_count": 26,
     "metadata": {},
     "output_type": "execute_result"
    }
   ],
   "source": [
    "y_Scale = training_set[:,2:3]\n",
    "\n",
    "SI.fit_transform(y_Scale)\n"
   ]
  },
  {
   "cell_type": "code",
   "execution_count": 27,
   "id": "d10b9acc-66bc-43be-ad91-82192b63180a",
   "metadata": {},
   "outputs": [
    {
     "data": {
      "text/plain": [
       "array([[ 922.2798 ],\n",
       "       [ 889.2827 ],\n",
       "       [ 874.96454],\n",
       "       [ 876.31696],\n",
       "       [ 893.7084 ],\n",
       "       [ 936.65967],\n",
       "       [1006.7374 ],\n",
       "       [1073.3212 ],\n",
       "       [1106.2456 ],\n",
       "       [1109.576  ],\n",
       "       [1104.1736 ],\n",
       "       [1107.7467 ],\n",
       "       [1122.101  ],\n",
       "       [1141.5826 ],\n",
       "       [1161.5831 ],\n",
       "       [1194.622  ],\n",
       "       [1296.4286 ],\n",
       "       [1396.9957 ],\n",
       "       [1375.6763 ],\n",
       "       [1316.6069 ],\n",
       "       [1259.0609 ],\n",
       "       [1185.7004 ],\n",
       "       [1098.5924 ],\n",
       "       [1023.5882 ],\n",
       "       [ 974.7224 ],\n",
       "       [ 949.7042 ],\n",
       "       [ 941.49457],\n",
       "       [ 947.1505 ],\n",
       "       [ 972.9108 ],\n",
       "       [1039.9728 ],\n",
       "       [1153.2034 ],\n",
       "       [1224.6823 ],\n",
       "       [1233.463  ],\n",
       "       [1225.7206 ],\n",
       "       [1223.3846 ],\n",
       "       [1224.4152 ],\n",
       "       [1214.8684 ],\n",
       "       [1185.3152 ],\n",
       "       [1151.8302 ],\n",
       "       [1140.3773 ],\n",
       "       [1174.2788 ],\n",
       "       [1191.6603 ],\n",
       "       [1155.8037 ],\n",
       "       [1114.4131 ],\n",
       "       [1083.3401 ],\n",
       "       [1045.7866 ],\n",
       "       [ 998.886  ],\n",
       "       [ 956.50635]], dtype=float32)"
      ]
     },
     "metadata": {},
     "output_type": "display_data"
    }
   ],
   "source": [
    "predictions = SI.inverse_transform(prediction_test)\n",
    "\n",
    "display (predictions)\n"
   ]
  },
  {
   "cell_type": "code",
   "execution_count": 28,
   "id": "8abaf6ed-1f7e-4bdb-82af-4d38b36f6309",
   "metadata": {},
   "outputs": [
    {
     "data": {
      "text/plain": [
       "array([ 941.,  923.,  913.,  905.,  923.,  964., 1038., 1096., 1111.,\n",
       "       1094., 1049., 1082., 1077., 1070., 1085., 1148., 1241., 1335.,\n",
       "       1296., 1269., 1232., 1171., 1114., 1020.,  987.,  952.,  931.,\n",
       "        911.,  940.,  974., 1049., 1096., 1116., 1144., 1177., 1223.,\n",
       "       1221., 1203., 1207., 1226., 1279., 1305., 1242., 1180., 1133.,\n",
       "       1073.,  994.,  919.])"
      ]
     },
     "metadata": {},
     "output_type": "display_data"
    }
   ],
   "source": [
    "real_values = test_set[:, 2]\n",
    "\n",
    "display (real_values)\n"
   ]
  },
  {
   "cell_type": "code",
   "execution_count": 29,
   "id": "beec35c4-b3ee-451e-bab3-bc8914cd5eca",
   "metadata": {},
   "outputs": [
    {
     "data": {
      "image/png": "[encoded data removed]",
      "text/plain": [
       "<Figure size 2000x1000 with 1 Axes>"
      ]
     },
     "metadata": {},
     "output_type": "display_data"
    }
   ],
   "source": [
    "plt.plot(real_values, color = 'red', label = 'Actual Electrical Consumption')\n",
    "plt.plot(predictions, color = 'blue', label = 'Predicted Values')\n",
    "\n",
    "plt.title('Electrical Consumption Prediction')\n",
    "plt.xlabel('Time (hr)')\n",
    "plt.ylabel('Electrical Demand (MW)')\n",
    "plt.legend()\n",
    "plt.show()\n",
    "\n",
    "\n"
   ]
  },
  {
   "cell_type": "code",
   "execution_count": 30,
   "id": "097aac89-2cc5-47ce-901e-47c8de07248b",
   "metadata": {},
   "outputs": [
    {
     "data": {
      "text/plain": [
       "56.03455999837447"
      ]
     },
     "metadata": {},
     "output_type": "display_data"
    }
   ],
   "source": [
    "import math\n",
    "from sklearn.metrics import mean_squared_error\n",
    "RMSE = math.sqrt(mean_squared_error(real_values,predictions))\n",
    "\n",
    "display (RMSE)\n"
   ]
  },
  {
   "cell_type": "code",
   "execution_count": 31,
   "id": "07c0bb9a-5801-4d04-b0d8-51f72dc88a56",
   "metadata": {},
   "outputs": [
    {
     "data": {
      "text/plain": [
       "np.float64(13.575159685648034)"
      ]
     },
     "metadata": {},
     "output_type": "display_data"
    }
   ],
   "source": [
    "def mean_absolute_percentage_error (y_true, y_pred):\n",
    "    y_true, y_pred = np.array(y_true), np.array(y_pred)\n",
    "    return np.mean(np.abs((y_true - y_pred)/y_true)) * 100\n",
    "\n",
    "MAPE = mean_absolute_percentage_error(real_values,predictions)\n",
    "display (MAPE)\n"
   ]
  },
  {
   "cell_type": "code",
   "execution_count": 32,
   "id": "41bc1228-5601-49e3-b8e6-4fddad68acd4",
   "metadata": {},
   "outputs": [
    {
     "data": {
      "text/plain": [
       "0.7923403703656984"
      ]
     },
     "metadata": {},
     "output_type": "display_data"
    }
   ],
   "source": [
    "from sklearn.metrics import r2_score\n",
    "accuracy = r2_score(real_values,predictions)\n",
    "\n",
    "display (accuracy)\n"
   ]
  },
  {
   "cell_type": "code",
   "execution_count": null,
   "id": "d50addff-f81e-4fa7-82a6-578fab13a396",
   "metadata": {},
   "outputs": [],
   "source": []
  },
  {
   "cell_type": "code",
   "execution_count": null,
   "id": "499ed7f6-8d62-4e1b-90e8-6022ceb192b0",
   "metadata": {},
   "outputs": [],
   "source": []
  },
  {
   "cell_type": "code",
   "execution_count": null,
   "id": "ae9d74a1-93ae-45ae-ae54-2836324f085c",
   "metadata": {},
   "outputs": [],
   "source": []
  },
  {
   "cell_type": "code",
   "execution_count": null,
   "id": "1def795c-26ef-46ae-8144-9f3f7a81d702",
   "metadata": {},
   "outputs": [],
   "source": []
  }
 ],
 "metadata": {
  "kernelspec": {
   "display_name": "Python 3",
   "language": "python",
   "name": "python3"
  },
  "language_info": {
   "codemirror_mode": {
    "name": "ipython",
    "version": 3
   },
   "file_extension": ".py",
   "mimetype": "text/x-python",
   "name": "python",
   "nbconvert_exporter": "python",
   "pygments_lexer": "ipython3",
   "version": "3.12.5"
  }
 },
 "nbformat": 4,
 "nbformat_minor": 5
}
